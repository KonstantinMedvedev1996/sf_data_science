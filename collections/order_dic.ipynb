{
 "cells": [
  {
   "cell_type": "markdown",
   "metadata": {},
   "source": [
    "### OrderDic"
   ]
  },
  {
   "cell_type": "markdown",
   "metadata": {},
   "source": [
    "example common dictionary. creation dictionary from list of tuples"
   ]
  },
  {
   "cell_type": "code",
   "execution_count": 3,
   "metadata": {},
   "outputs": [
    {
     "name": "stdout",
     "output_type": "stream",
     "text": [
      "{'Ivan': 19, 'Mark': 25, 'Andrey': 23, 'Maria': 20}\n",
      "{'Ivan': 19, 'Mark': 25, 'Andrey': 23, 'Maria': 20}\n",
      "{'Ivan': 19, 'Mark': 25, 'Andrey': 23, 'Maria': 20}\n"
     ]
    }
   ],
   "source": [
    "data = [('Ivan', 19),('Mark', 25),('Andrey', 23),('Maria', 20)]\n",
    "\n",
    "client_list = dict(data)\n",
    "\n",
    "print(client_list)\n",
    "\n",
    "print(client_list)\n",
    "\n",
    "print(client_list)"
   ]
  },
  {
   "cell_type": "markdown",
   "metadata": {},
   "source": [
    "here the order is kept, but this is not quite every time"
   ]
  },
  {
   "cell_type": "code",
   "execution_count": 4,
   "metadata": {},
   "outputs": [
    {
     "name": "stdout",
     "output_type": "stream",
     "text": [
      "{'Ivan': 19, 'Mark': 25, 'Andrey': 23, 'Maria': 20}\n"
     ]
    }
   ],
   "source": [
    "print(client_list)"
   ]
  },
  {
   "cell_type": "markdown",
   "metadata": {},
   "source": [
    "example with OrderDictionary"
   ]
  },
  {
   "cell_type": "code",
   "execution_count": 6,
   "metadata": {},
   "outputs": [],
   "source": [
    "from collections import OrderedDict\n",
    "\n",
    "data = [('Mark', 25),('Ivan', 19),('Andrey', 23),('Maria', 20)]\n",
    "\n",
    "client_list2 = OrderedDict(data) "
   ]
  },
  {
   "cell_type": "code",
   "execution_count": 7,
   "metadata": {},
   "outputs": [
    {
     "name": "stdout",
     "output_type": "stream",
     "text": [
      "OrderedDict([('Mark', 25), ('Ivan', 19), ('Andrey', 23), ('Maria', 20)])\n"
     ]
    }
   ],
   "source": [
    "print(client_list2)"
   ]
  },
  {
   "cell_type": "code",
   "execution_count": 9,
   "metadata": {},
   "outputs": [
    {
     "name": "stdout",
     "output_type": "stream",
     "text": [
      "[('Ivan', 19), ('Maria', 20), ('Andrey', 23), ('Mark', 25)]\n"
     ]
    }
   ],
   "source": [
    "list_sorted = sorted(data, key=lambda x: x[1])\n",
    "print(list_sorted)"
   ]
  },
  {
   "cell_type": "code",
   "execution_count": 10,
   "metadata": {},
   "outputs": [
    {
     "name": "stdout",
     "output_type": "stream",
     "text": [
      "[('Andrey', 23), ('Ivan', 19), ('Maria', 20), ('Mark', 25)]\n"
     ]
    }
   ],
   "source": [
    "list_sorted_name = sorted(data, key=lambda x: x[0])\n",
    "print(list_sorted_name)"
   ]
  },
  {
   "cell_type": "markdown",
   "metadata": {},
   "source": [
    "Can be creating dictionary with sorting at the same time"
   ]
  },
  {
   "cell_type": "code",
   "execution_count": 11,
   "metadata": {},
   "outputs": [
    {
     "name": "stdout",
     "output_type": "stream",
     "text": [
      "OrderedDict([('Ivan', 19), ('Maria', 20), ('Andrey', 23), ('Mark', 25)])\n"
     ]
    }
   ],
   "source": [
    "dict_sorted = OrderedDict(sorted(data, key=lambda x:x[1]))\n",
    "print(dict_sorted)"
   ]
  },
  {
   "cell_type": "markdown",
   "metadata": {},
   "source": [
    "adding and deleting elements"
   ]
  },
  {
   "cell_type": "code",
   "execution_count": 14,
   "metadata": {},
   "outputs": [
    {
     "name": "stdout",
     "output_type": "stream",
     "text": [
      "OrderedDict([('Ivan', 19), ('Maria', 20), ('Andrey', 23), ('Mark', 25), ('Andrei', 17)])\n"
     ]
    }
   ],
   "source": [
    "dict_sorted['Andrei'] = 17\n",
    "\n",
    "print(dict_sorted)"
   ]
  },
  {
   "cell_type": "code",
   "execution_count": 15,
   "metadata": {},
   "outputs": [
    {
     "name": "stdout",
     "output_type": "stream",
     "text": [
      "OrderedDict([('Ivan', 19), ('Maria', 20), ('Mark', 25), ('Andrei', 17)])\n"
     ]
    }
   ],
   "source": [
    "del dict_sorted['Andrey']\n",
    "\n",
    "print(dict_sorted)"
   ]
  },
  {
   "cell_type": "code",
   "execution_count": 16,
   "metadata": {},
   "outputs": [
    {
     "name": "stdout",
     "output_type": "stream",
     "text": [
      "OrderedDict([('Ivan', 19), ('Maria', 20), ('Mark', 25), ('Andrei', 17), ('Andrey', 23)])\n"
     ]
    }
   ],
   "source": [
    "dict_sorted['Andrey'] = 23\n",
    "\n",
    "print(dict_sorted)"
   ]
  },
  {
   "cell_type": "code",
   "execution_count": null,
   "metadata": {},
   "outputs": [],
   "source": []
  }
 ],
 "metadata": {
  "kernelspec": {
   "display_name": "Python 3.10.5 64-bit",
   "language": "python",
   "name": "python3"
  },
  "language_info": {
   "codemirror_mode": {
    "name": "ipython",
    "version": 3
   },
   "file_extension": ".py",
   "mimetype": "text/x-python",
   "name": "python",
   "nbconvert_exporter": "python",
   "pygments_lexer": "ipython3",
   "version": "3.10.5"
  },
  "orig_nbformat": 4,
  "vscode": {
   "interpreter": {
    "hash": "475a401d5f8531da0d5ec3d32485cfac990b88381cdc99d4b948e204c9710bec"
   }
  }
 },
 "nbformat": 4,
 "nbformat_minor": 2
}
